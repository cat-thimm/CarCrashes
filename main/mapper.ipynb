{
 "cells": [
  {
   "cell_type": "code",
   "execution_count": null,
   "id": "53226ea4",
   "metadata": {},
   "outputs": [],
   "source": [
    "#!/usr/bin/env python\n",
    "\"\"\"mapper.py\"\"\"\n",
    "\n",
    "#!/usr/bin/env python\n",
    "\n",
    "import sys\n",
    "import csv\n",
    "import json\n",
    "\n",
    "# Read CSV rows from stdin and emit JSON objects\n",
    "csv_reader = csv.DictReader(sys.stdin)\n",
    "for row in csv_reader:\n",
    "    # Transform CSV row to JSON object\n",
    "    json_obj = {\n",
    "        'COLLISION_ID': row['COLLISION_ID'],\n",
    "        'EMOTIONAL_STATUS': row['EMOTIONAL_STATUS'],\n",
    "        'BODILY_INJURY': row['BODILY_INJURY'],\n",
    "        'PERSON_TYPE': row['PERSON_TYPE'],\n",
    "        'PERSON_AGE': row['PERSON_AGE'],\n",
    "        'PERSON_SEX': row['PERSON_SEX'],\n",
    "        'SAFETY_EQUIPMENT': row['SAFETY_EQUIPMENT']\n",
    "    }\n",
    "    # Emit JSON object\n",
    "    print(json.dumps(json_obj))\n",
    "\n"
   ]
  }
 ],
 "metadata": {
  "kernelspec": {
   "display_name": "Python 3 (ipykernel)",
   "language": "python",
   "name": "python3"
  },
  "language_info": {
   "codemirror_mode": {
    "name": "ipython",
    "version": 3
   },
   "file_extension": ".py",
   "mimetype": "text/x-python",
   "name": "python",
   "nbconvert_exporter": "python",
   "pygments_lexer": "ipython3",
   "version": "3.10.10"
  }
 },
 "nbformat": 4,
 "nbformat_minor": 5
}
