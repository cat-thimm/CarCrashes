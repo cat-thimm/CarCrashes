{
 "cells": [
  {
   "cell_type": "code",
   "execution_count": 2,
   "id": "initial_id",
   "metadata": {},
   "outputs": [
    {
     "name": "stdout",
     "output_type": "stream",
     "text": [
      "HTTP/1.1 307 Temporary Redirect\r\n",
      "\n",
      "Date: Tue, 21 May 2024 12:14:46 GMT\r\n",
      "\n",
      "Cache-Control: no-cache\r\n",
      "\n",
      "Expires: Tue, 21 May 2024 12:14:46 GMT\r\n",
      "\n",
      "Date: Tue, 21 May 2024 12:14:46 GMT\r\n",
      "\n",
      "Pragma: no-cache\r\n",
      "\n",
      "X-Content-Type-Options: nosniff\r\n",
      "\n",
      "X-FRAME-OPTIONS: SAMEORIGIN\r\n",
      "\n",
      "X-XSS-Protection: 1; mode=block\r\n",
      "\n",
      "Location: http://12666678278c:9864/webhdfs/v1/bdm/datei.txt?op=CREATE&namenoderpcaddress=namenode:9000&createflag=&createparent=true&overwrite=false\r\n",
      "\n",
      "Content-Type: application/octet-stream\r\n",
      "\n",
      "Content-Length: 0\r\n",
      "\n",
      "\r\n",
      "\n"
     ]
    },
    {
     "data": {
      "text/plain": [
       "''"
      ]
     },
     "execution_count": 2,
     "metadata": {},
     "output_type": "execute_result"
    }
   ],
   "source": [
    "import pycurl\n",
    "import json\n",
    "from io import BytesIO\n",
    "\n",
    "namenode_url = namenode_url = \"http://namenode:9870\"\n",
    "\n",
    "def sendCURLRequest (url, method, data):\n",
    "\n",
    "    curl = pycurl.Curl()\n",
    "    curl.setopt(pycurl.URL, url)\n",
    "    curl.setopt(pycurl.HTTPHEADER, ['Content-Type: application/json', 'Accept: application/json'])\n",
    "    curl.setopt(pycurl.CUSTOMREQUEST, method)\n",
    "    curl.setopt(pycurl.USERAGENT, \"Mozilla/5.0 (Windows NT 10.0; Win64; x64; rv:120.0) Gecko/20100101 Firefox/120.0\")\n",
    "\n",
    "    buffer = BytesIO()\n",
    "    curl.setopt(pycurl.WRITEDATA, buffer)\n",
    "    curl.setopt(pycurl.POSTFIELDS,data)\n",
    "\n",
    "    curl.setopt(pycurl.HEADERFUNCTION, lambda buf: print (buf.decode('iso-8859-1')))\n",
    "    curl.perform()\n",
    "    curl.close()\n",
    "\n",
    "    return buffer.getvalue().decode('iso-8859-1')\n",
    "\n",
    "sendCURLRequest(\n",
    "    url = namenode_url + \"/webhdfs/v1/bdm/datei.txt?op=CREATE\",\n",
    "    method = \"PUT\",\n",
    "    data = \"\")\n"
   ]
  },
  {
   "cell_type": "code",
   "execution_count": null,
   "id": "552b1850",
   "metadata": {},
   "outputs": [],
   "source": [
    "sendCURLRequest (\n",
    "    url = \"http://12666678278c:9864/webhdfs/v1/bdm/datei.txt?op=CREATE&namenoderpcaddress=namenode:9000&createflag=&createparent=true&overwrite=false\", \n",
    "    method = \"PUT\", \n",
    "    data = \"123\")"
   ]
  }
 ],
 "metadata": {
  "kernelspec": {
   "display_name": "Python 3 (ipykernel)",
   "language": "python",
   "name": "python3"
  },
  "language_info": {
   "codemirror_mode": {
    "name": "ipython",
    "version": 3
   },
   "file_extension": ".py",
   "mimetype": "text/x-python",
   "name": "python",
   "nbconvert_exporter": "python",
   "pygments_lexer": "ipython3",
   "version": "3.10.10"
  }
 },
 "nbformat": 4,
 "nbformat_minor": 5
}
