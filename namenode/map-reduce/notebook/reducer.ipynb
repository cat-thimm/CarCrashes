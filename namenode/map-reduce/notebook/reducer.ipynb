{
 "cells": [
  {
   "cell_type": "code",
   "execution_count": null,
   "id": "e9d115b2",
   "metadata": {},
   "outputs": [],
   "source": [
    "#!/usr/bin/env python\n",
    "\n",
    "import sys\n",
    "import json\n",
    "\n",
    "# Read JSON objects from stdin and combine them into a single JSON array\n",
    "json_array = []\n",
    "for line in sys.stdin:\n",
    "    json_obj = json.loads(line)\n",
    "    json_array.append(json_obj)\n",
    "\n",
    "# Output the combined JSON array\n",
    "print(json.dumps(json_array))\n"
   ]
  }
 ],
 "metadata": {
  "kernelspec": {
   "display_name": "Python 3 (ipykernel)",
   "language": "python",
   "name": "python3"
  },
  "language_info": {
   "codemirror_mode": {
    "name": "ipython",
    "version": 3
   },
   "file_extension": ".py",
   "mimetype": "text/x-python",
   "name": "python",
   "nbconvert_exporter": "python",
   "pygments_lexer": "ipython3",
   "version": "3.10.10"
  }
 },
 "nbformat": 4,
 "nbformat_minor": 5
}
